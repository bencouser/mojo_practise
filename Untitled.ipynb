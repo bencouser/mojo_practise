{
 "cells": [
  {
   "cell_type": "code",
   "execution_count": 1,
   "id": "55f5ac24",
   "metadata": {},
   "outputs": [
    {
     "name": "stdout",
     "output_type": "stream",
     "text": [
      "Hello Mojo! 🔥\r\n"
     ]
    }
   ],
   "source": [
    "print(\"Hello Mojo! 🔥\")"
   ]
  },
  {
   "cell_type": "code",
   "execution_count": 2,
   "id": "daa71c75",
   "metadata": {},
   "outputs": [],
   "source": [
    "def greet(name):\n",
    "    return \"Hello, \" + name + \"!\""
   ]
  },
  {
   "cell_type": "code",
   "execution_count": 3,
   "id": "d79961e7",
   "metadata": {},
   "outputs": [],
   "source": [
    "fn greet2(name: String) -> String:\n",
    "    return \"Hello, \" + name + \"!\""
   ]
  },
  {
   "cell_type": "code",
   "execution_count": 16,
   "id": "af44bdff",
   "metadata": {},
   "outputs": [
    {
     "name": "stdout",
     "output_type": "stream",
     "text": [
      "'Hello, ben!'\r\n",
      "Hello, ben!\r\n"
     ]
    }
   ],
   "source": [
    "# Different outputs\n",
    "name1 = greet(\"ben\")\n",
    "name2 = greet2(\"ben\")\n",
    "print(name1)\n",
    "print(name2)"
   ]
  },
  {
   "cell_type": "code",
   "execution_count": 22,
   "id": "f5a16f3a",
   "metadata": {},
   "outputs": [
    {
     "name": "stdout",
     "output_type": "stream",
     "text": [
      "19113\r\n"
     ]
    }
   ],
   "source": [
    "def do_math(x):\n",
    "    var y = x + x\n",
    "    y = y * y\n",
    "    let z = y + x\n",
    "    print(z)\n",
    "\n",
    "do_math(69)"
   ]
  },
  {
   "cell_type": "code",
   "execution_count": 23,
   "id": "d442dfe5",
   "metadata": {},
   "outputs": [
    {
     "name": "stdout",
     "output_type": "stream",
     "text": [
      "70\r\n"
     ]
    }
   ],
   "source": [
    "def add_one(x):\n",
    "    let y: Int = 1\n",
    "    print(x + y)\n",
    "    \n",
    "add_one(69)"
   ]
  },
  {
   "cell_type": "code",
   "execution_count": 35,
   "id": "1fa9574e",
   "metadata": {},
   "outputs": [],
   "source": [
    "struct MyPair:\n",
    "    var first: Int\n",
    "    var second: Int\n",
    "    \n",
    "    fn __init__(inout self, first: Int, second: Int):\n",
    "        self.first = first\n",
    "        self.second = second\n",
    "        \n",
    "    fn dump(self):\n",
    "        print(self.first, self.second)"
   ]
  },
  {
   "cell_type": "code",
   "execution_count": 36,
   "id": "1f6d5643",
   "metadata": {},
   "outputs": [],
   "source": [
    "fn use_mypair():\n",
    "    let mine = MyPair(2, 4)\n",
    "    print(mine.dump())"
   ]
  },
  {
   "cell_type": "code",
   "execution_count": 39,
   "id": "6b7aa4ad",
   "metadata": {},
   "outputs": [],
   "source": [
    "from autotune import search"
   ]
  },
  {
   "cell_type": "code",
   "execution_count": null,
   "id": "6591bce8",
   "metadata": {},
   "outputs": [
    {
     "name": "stderr",
     "output_type": "stream",
     "text": [
      "error: \u001b[0;1;31m\u001b[1mExpression [40]:1:8: \u001b[0m\u001b[1muse of unknown declaration 'fn_type'\n",
      "\u001b[0msearch[fn_type: AnyRegType,\n",
      "\u001b[0;1;32m       ^~~~~~~\n",
      "\u001b[0m\u001b[0m\n",
      "expression failed to parse (no further compiler diagnostics)"
     ]
    }
   ],
   "source": [
    "search[fn_type: AnyRegType,\n",
    "        cadidates: VariadicList[fn_type],\n",
    "        evaluator: fn(Pointer[fn_type, 0], Int, /) -> Int]()"
   ]
  },
  {
   "cell_type": "code",
   "execution_count": null,
   "id": "2e5fce05",
   "metadata": {},
   "outputs": [
    {
     "name": "stderr",
     "output_type": "stream",
     "text": [
      "error: The Mojo REPL has crashed and attempted recovery. If the REPL behaves inconsistently, please restart to ensure correct behavior.\n",
      "expression failed to parse (no further compiler diagnostics)"
     ]
    }
   ],
   "source": [
    "print(autotune)"
   ]
  },
  {
   "cell_type": "code",
   "execution_count": null,
   "id": "5c529e54",
   "metadata": {},
   "outputs": [],
   "source": []
  }
 ],
 "metadata": {
  "kernelspec": {
   "display_name": "Mojo",
   "language": "mojo",
   "name": "mojo-jupyter-kernel"
  },
  "language_info": {
   "codemirror_mode": {
    "name": "mojo"
   },
   "file_extension": ".mojo",
   "mimetype": "text/x-mojo",
   "name": "mojo"
  }
 },
 "nbformat": 4,
 "nbformat_minor": 5
}

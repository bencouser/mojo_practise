{
 "cells": [
  {
   "cell_type": "code",
   "execution_count": 1,
   "id": "55f5ac24",
   "metadata": {},
   "outputs": [
    {
     "name": "stdout",
     "output_type": "stream",
     "text": [
      "Hello Mojo! 🔥\r\n"
     ]
    }
   ],
   "source": [
    "print(\"Hello Mojo! 🔥\")"
   ]
  },
  {
   "cell_type": "code",
   "execution_count": 2,
   "id": "6c17dbf8",
   "metadata": {},
   "outputs": [
    {
     "name": "stdout",
     "output_type": "stream",
     "text": [
      "1\n",
      "3\n",
      "6\n",
      "10\n",
      "15\n",
      "21\n",
      "28\n",
      "36\n",
      "45\n",
      "55\n"
     ]
    }
   ],
   "source": [
    "var sum: Int = 0\n",
    "\n",
    "for i in range(1, 11):\n",
    "    sum += i\n",
    "    print(sum)"
   ]
  },
  {
   "cell_type": "code",
   "execution_count": 9,
   "id": "5af794ae",
   "metadata": {},
   "outputs": [
    {
     "name": "stdout",
     "output_type": "stream",
     "text": [
      "500500\n"
     ]
    }
   ],
   "source": [
    "fn find_sum(N: Int):\n",
    "    var sum = 0\n",
    "    for i in range(1, N + 1):\n",
    "        sum += i\n",
    "    print(sum)\n",
    "\n",
    "find_sum(1000)\n"
   ]
  },
  {
   "cell_type": "code",
   "execution_count": 11,
   "id": "7cdfb105",
   "metadata": {},
   "outputs": [],
   "source": [
    "from python import Python\n",
    "\n",
    "fn use_array() raises:\n",
    "    let np = Python.import_module(\"numpy\")\n",
    "\n",
    "    let array = np.array([1, 2, 3])\n",
    "    print(array)"
   ]
  },
  {
   "cell_type": "code",
   "execution_count": 12,
   "id": "0a337a48",
   "metadata": {},
   "outputs": [
    {
     "name": "stdout",
     "output_type": "stream",
     "text": [
      "Error: \n",
      "\n",
      "IMPORTANT: PLEASE READ THIS FOR ADVICE ON HOW TO SOLVE THIS ISSUE!\n",
      "\n",
      "Importing the numpy C-extensions failed. This error can happen for\n",
      "many reasons, often due to issues with your setup or how NumPy was\n",
      "installed.\n",
      "\n",
      "We have compiled some common reasons and troubleshooting tips at:\n",
      "\n",
      "    https://numpy.org/devdocs/user/troubleshooting-importerror.html\n",
      "\n",
      "Please note and check the following:\n",
      "\n",
      "  * The Python version is: Python3.11 from \"/Users/bencouser/.modular/pkg/packages.modular.com_mojo/lib/mojo-repl-entry-point\"\n",
      "  * The NumPy version is: \"1.24.3\"\n",
      "\n",
      "and make sure that they are the versions you expect.\n",
      "Please carefully study the documentation linked above for further help.\n",
      "\n",
      "Original error was: cannot import name 'Sequence' from 'collections' (/Users/bencouser/anaconda3/lib/python3.11/collections/__init__.py)\n",
      "\n"
     ]
    }
   ],
   "source": [
    "use_array()"
   ]
  },
  {
   "cell_type": "code",
   "execution_count": null,
   "id": "f53e4d0a",
   "metadata": {},
   "outputs": [],
   "source": []
  }
 ],
 "metadata": {
  "kernelspec": {
   "display_name": "Mojo",
   "language": "mojo",
   "name": "mojo-jupyter-kernel"
  },
  "language_info": {
   "codemirror_mode": {
    "name": "mojo"
   },
   "file_extension": ".mojo",
   "mimetype": "text/x-mojo",
   "name": "mojo"
  }
 },
 "nbformat": 4,
 "nbformat_minor": 5
}
